{
 "cells": [
  {
   "cell_type": "code",
   "execution_count": 7,
   "metadata": {},
   "outputs": [],
   "source": [
    "from utils import *\n",
    "\n",
    "# r1pas = [True, False]\n",
    "# r2pas = [True, False]\n",
    "# r2cpas = [True, False, None]\n",
    "# r3pas = [True, False]\n",
    "# r3cpas = [True, False, None]\n",
    "# r2r3c = [True, False]\n",
    "# r2conf = [\"remove-private-AS\", \"remove-private-AS all\", \"remove-private-AS all replace-AS\"]\n"
   ]
  },
  {
   "cell_type": "code",
   "execution_count": 2,
   "metadata": {},
   "outputs": [
    {
     "name": "stderr",
     "output_type": "stream",
     "text": [
      "sudo: a terminal is required to read the password; either use the -S option to read from standard input or configure an askpass helper\n",
      "sudo: a terminal is required to read the password; either use the -S option to read from standard input or configure an askpass helper\n",
      "sudo: a terminal is required to read the password; either use the -S option to read from standard input or configure an askpass helper\n",
      "sudo: a terminal is required to read the password; either use the -S option to read from standard input or configure an askpass helper\n",
      "sudo: a terminal is required to read the password; either use the -S option to read from standard input or configure an askpass helper\n",
      "sudo: a terminal is required to read the password; either use the -S option to read from standard input or configure an askpass helper\n"
     ]
    },
    {
     "data": {
      "text/plain": [
       "256"
      ]
     },
     "execution_count": 2,
     "metadata": {},
     "output_type": "execute_result"
    }
   ],
   "source": [
    "## Test Case 1\n",
    "from utils import *\n",
    "import os\n",
    "combination_to_configs((True, True, None, False, None, False, \"remove-private-AS all replace-AS\"))\n",
    "os.system(\"bash run.sh\")\n",
    "\n",
    "## Test Case 2\n",
    "from utils import *\n",
    "combination_to_configs((True, False, True, True, None, False, \"remove-private-AS all\"))\n",
    "\n",
    "## Test Case 3\n",
    "from utils import *\n",
    "combination_to_configs((False, True, False, False, True, False, \"remove-private-AS all\"))\n",
    "\n",
    "## Test Case 4\n",
    "from utils import *\n",
    "combination_to_configs((True, True, True, False, True, True, \"remove-private-AS all replace-AS\"))\n",
    "\n",
    "## Test Case 5\n",
    "from utils import *\n",
    "combination_to_configs((False, True, None, False, True, False, \"remove-private-AS all replace-AS\"))"
   ]
  },
  {
   "cell_type": "code",
   "execution_count": 2,
   "metadata": {},
   "outputs": [],
   "source": []
  },
  {
   "cell_type": "code",
   "execution_count": 3,
   "metadata": {},
   "outputs": [],
   "source": []
  },
  {
   "cell_type": "code",
   "execution_count": 1,
   "metadata": {},
   "outputs": [],
   "source": []
  },
  {
   "cell_type": "code",
   "execution_count": 2,
   "metadata": {},
   "outputs": [],
   "source": []
  },
  {
   "cell_type": "code",
   "execution_count": null,
   "metadata": {},
   "outputs": [],
   "source": []
  }
 ],
 "metadata": {
  "kernelspec": {
   "display_name": "Python 3",
   "language": "python",
   "name": "python3"
  },
  "language_info": {
   "codemirror_mode": {
    "name": "ipython",
    "version": 3
   },
   "file_extension": ".py",
   "mimetype": "text/x-python",
   "name": "python",
   "nbconvert_exporter": "python",
   "pygments_lexer": "ipython3",
   "version": "3.8.10"
  },
  "orig_nbformat": 4
 },
 "nbformat": 4,
 "nbformat_minor": 2
}
