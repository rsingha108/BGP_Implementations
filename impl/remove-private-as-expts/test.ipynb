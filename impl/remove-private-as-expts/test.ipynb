{
 "cells": [
  {
   "cell_type": "code",
   "execution_count": 3,
   "metadata": {},
   "outputs": [
    {
     "name": "stdout",
     "output_type": "stream",
     "text": [
      "[[True, True, True, 'remove-private-AS'], [True, True, True, 'remove-private-AS all'], [True, True, True, 'remove-private-AS all replace-AS'], [True, True, False, 'remove-private-AS'], [True, True, False, 'remove-private-AS all'], [True, True, False, 'remove-private-AS all replace-AS'], [True, False, True, 'remove-private-AS'], [True, False, True, 'remove-private-AS all'], [True, False, True, 'remove-private-AS all replace-AS'], [True, False, False, 'remove-private-AS'], [True, False, False, 'remove-private-AS all'], [True, False, False, 'remove-private-AS all replace-AS'], [False, True, True, 'remove-private-AS'], [False, True, True, 'remove-private-AS all'], [False, True, True, 'remove-private-AS all replace-AS'], [False, True, False, 'remove-private-AS'], [False, True, False, 'remove-private-AS all'], [False, True, False, 'remove-private-AS all replace-AS'], [False, False, True, 'remove-private-AS'], [False, False, True, 'remove-private-AS all'], [False, False, True, 'remove-private-AS all replace-AS'], [False, False, False, 'remove-private-AS'], [False, False, False, 'remove-private-AS all'], [False, False, False, 'remove-private-AS all replace-AS']]\n",
      "24\n"
     ]
    }
   ],
   "source": [
    "def compute_all_combinations(ll):\n",
    "    \"\"\"\n",
    "    takes a list of lists of options and returns all possible combinations of these options\n",
    "    \"\"\"\n",
    "    if len(ll) == 1:\n",
    "        return [[x] for x in ll[0]]\n",
    "    else:\n",
    "        return [[x] + y for x in ll[0] for y in compute_all_combinations(ll[1:])]\n",
    "    \n",
    "ll = [[True, False],[True, False],[True, False],[\"remove-private-AS\", \"remove-private-AS all\", \"remove-private-AS all replace-AS\"]]\n",
    "\n",
    "print(compute_all_combinations(ll))\n",
    "print(len(compute_all_combinations(ll)))\n"
   ]
  },
  {
   "cell_type": "code",
   "execution_count": 21,
   "metadata": {},
   "outputs": [
    {
     "name": "stdout",
     "output_type": "stream",
     "text": [
      "432\n",
      "264\n"
     ]
    }
   ],
   "source": [
    "r1pas = [True, False]\n",
    "r2pas = [True, False]\n",
    "r2cpas = [True, False, None]\n",
    "r3pas = [True, False]\n",
    "r3cpas = [True, False, None]\n",
    "r2r3c = [True, False]\n",
    "r2conf = [\"remove-private-AS\", \"remove-private-AS all\", \"remove-private-AS all replace-AS\"]\n",
    "\n",
    "combs = compute_all_combinations([r1pas, r2pas, r2cpas, r3pas, r3cpas, r2r3c, r2conf])\n",
    "\n",
    "print(len(combs))\n",
    "\n",
    "new_combs = []\n",
    "for comb in combs:\n",
    "    if comb[5] == True and (comb[2] == None or comb[4] == None):\n",
    "        continue\n",
    "    elif comb[5] == True and comb[2] != None and comb[4] != None and comb[2] != comb[4]:\n",
    "        continue\n",
    "    else:\n",
    "        new_combs.append(comb)\n",
    "\n",
    "print(len(new_combs))\n"
   ]
  },
  {
   "cell_type": "code",
   "execution_count": 22,
   "metadata": {},
   "outputs": [],
   "source": [
    "\n",
    "type1 = []\n",
    "type2 = []\n",
    "type3 = []\n",
    "type4 = []\n",
    "type5 = []\n",
    "type6 = []\n",
    "for comb in new_combs:\n",
    "    if (comb[2] == None and comb[4] == None):\n",
    "        type1.append(comb)\n",
    "    elif (comb[2] != None and comb[4] == None):\n",
    "        type2.append(comb)\n",
    "    elif (comb[2] != None and comb[4] != None and comb[5] == False):\n",
    "        type3.append(comb)\n",
    "    elif (comb[2] != None and comb[4] != None and comb[5] == True):\n",
    "        type4.append(comb)\n",
    "    elif (comb[2] == None and comb[4] != None):\n",
    "        type5.append(comb)\n",
    "    else:\n",
    "        type6.append(comb)\n",
    "\n"
   ]
  },
  {
   "cell_type": "code",
   "execution_count": 23,
   "metadata": {},
   "outputs": [
    {
     "data": {
      "text/plain": [
       "(24, 48, 96, 48, 48, 0)"
      ]
     },
     "execution_count": 23,
     "metadata": {},
     "output_type": "execute_result"
    }
   ],
   "source": [
    "len(type1), len(type2), len(type3), len(type4), len(type5), len(type6)"
   ]
  },
  {
   "cell_type": "code",
   "execution_count": null,
   "metadata": {},
   "outputs": [],
   "source": []
  }
 ],
 "metadata": {
  "kernelspec": {
   "display_name": "Python 3",
   "language": "python",
   "name": "python3"
  },
  "language_info": {
   "codemirror_mode": {
    "name": "ipython",
    "version": 3
   },
   "file_extension": ".py",
   "mimetype": "text/x-python",
   "name": "python",
   "nbconvert_exporter": "python",
   "pygments_lexer": "ipython3",
   "version": "3.8.10"
  },
  "orig_nbformat": 4
 },
 "nbformat": 4,
 "nbformat_minor": 2
}
